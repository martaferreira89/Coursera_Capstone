{
 "cells": [
  {
   "cell_type": "markdown",
   "metadata": {},
   "source": [
    "#### Business Understanding: \n",
    "To help reduce the severity and frequency of car collision, this project wants to use the Seattle car collision data to generate insights on how modeling can help reduce accidents. \n",
    "The objective of this project is to be able to predict the severity of a road accidents under certain conditions like weather, road and visibility.\n",
    "It can be use for specific resources, like municipal police or emergency teams (fire fighters or hospitals), as a way to predict the flux of accidents that they can expect in a specific day. \n",
    "But it can be used by the public, since the common car drivers or a pedestrian.\n",
    "In the future it can be useful to predict the location of the most common places of an accident to eld place and help the government officials to improve roads or be more watchful to certain roads. By looking into road condition factors and address types such as intersection and block, we could see if there is any possible improvement in road condition and city planning.\n",
    "\n"
   ]
  },
  {
   "cell_type": "markdown",
   "metadata": {},
   "source": [
    "#### Data understanding: \n",
    "The Data that is going to be worked in the following project is the one the IBM \n",
    "The example dataset to be used has 33 columns. The target variable will be 'SEVERITYCODE', as it is a measure of the severity of the accident and varies between 1 and 2.\n",
    "The attributes 'WEATHER', 'ROADCOND' and 'LIGHTCOND' will be used to weigh the severity of an accident.\n",
    "Values for SEVERITYCODE represent the following consequences of the accident:\n",
    "1.\tProperty Damage Only Collision\n",
    "2.\tInjury Collision\n",
    "\n",
    "It will be consider as well the factor 'SPEEDING', to use as a dependent regarding the Weather and Road conditions.\n"
   ]
  },
  {
   "cell_type": "code",
   "execution_count": null,
   "metadata": {},
   "outputs": [],
   "source": []
  }
 ],
 "metadata": {
  "kernelspec": {
   "display_name": "Python 3",
   "language": "python",
   "name": "python3"
  },
  "language_info": {
   "codemirror_mode": {
    "name": "ipython",
    "version": 3
   },
   "file_extension": ".py",
   "mimetype": "text/x-python",
   "name": "python",
   "nbconvert_exporter": "python",
   "pygments_lexer": "ipython3",
   "version": "3.7.1"
  }
 },
 "nbformat": 4,
 "nbformat_minor": 2
}
