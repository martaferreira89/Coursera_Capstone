{
 "cells": [
  {
   "cell_type": "markdown",
   "metadata": {},
   "source": [
    "## Business Understanding: \n",
    "\n",
    "### Background of the study\n",
    "The usage of car has increased, specially in past few decades, especially since the 60’s, as the price of the cars are more affordable to the open public. Car accidents, as a correlation of the increase cars on the roads, are very usual to happen and a lot of conditions that can lead to the accident. According to the 2017 WSDOT data, a car accident occurs every 4 minutes and a person dies due to a car crash every 20 hours. Fatal crashes went from 508 in 2016 to 525 in 2017, resulting in the death of 555 people. This number has stayed relatively steady for the past decade.\n",
    "\n",
    "### Problem and Interested parties \n",
    "\n",
    "To help reduce the severity and frequency of car collision, this project wants to use the Seattle car collision data to generate insights on how modeling can help reduce accidents. \n",
    "The objective of this project is to be able to predict the severity of a road accidents under certain conditions like weather, road and visibility.\n",
    "It can be use for specific resources, like municipal police or emergency teams (fire fighters or hospitals), as a way to predict the flux of accidents that they can expect in a specific day. \n",
    "But it can be used by the public, since the common car drivers or a pedestrian.\n",
    "In the future it can be useful to predict the location of the most common places of an accident to eld place and help the government officials to improve roads or be more watchful to certain roads. By looking into road condition factors and address types such as intersection and block, we could see if there is any possible improvement in road condition and city planning.\n",
    "\n"
   ]
  },
  {
   "cell_type": "markdown",
   "metadata": {},
   "source": [
    "## Data understanding: \n",
    "### Data Source\n",
    "The Data used in the following project is the Car Collision dataset of the city of Seattle, from IBM Cloud which contains among others the collision data, address, and a few different conditions such as Weather, road and light. The dataset includes 38 columns and 194673 observations.\n",
    "### Data cleaning\n",
    "The first objective of the Dataset is going to be cleaning the “noise” or remove all the columns that we are not going to require for the base of this specific study. It will be need to have in regard the missing data, which there are about 10527 records in this category.\n",
    "The target variable will be 'SEVERITYCODE', as it is a measure of the severity of the accident and varies between 1 and 2. The attributes 'WEATHER', 'ROADCOND' and 'LIGHTCOND' are going to be converted from Categorical to Numerical values, as part of the normalization process. \n",
    "Values for SEVERITYCODE represent the following consequences of the accident: Property Damage Only Collision and Injury Collision\n",
    "Lastly, we need to have in consideration that this is unbalanced labeled dataset, so we are going to need to normalize the data first of all, before they being used. \n",
    "### Feature selection\n",
    "It will be considered as well the factor 'SPEEDING', to use as a dependent regarding the Weather and Road conditions. The attributes 'WEATHER', 'ROADCOND' and 'LIGHTCOND' will be used to weigh the severity of an accident. But it is going to be considered the “ST_COLCODE” (condition of accident) and “INCDTTM” (date and time of the accident).\n",
    "\n"
   ]
  },
  {
   "cell_type": "code",
   "execution_count": null,
   "metadata": {},
   "outputs": [],
   "source": []
  }
 ],
 "metadata": {
  "kernelspec": {
   "display_name": "Python 3",
   "language": "python",
   "name": "python3"
  },
  "language_info": {
   "codemirror_mode": {
    "name": "ipython",
    "version": 3
   },
   "file_extension": ".py",
   "mimetype": "text/x-python",
   "name": "python",
   "nbconvert_exporter": "python",
   "pygments_lexer": "ipython3",
   "version": "3.7.1"
  }
 },
 "nbformat": 4,
 "nbformat_minor": 2
}
