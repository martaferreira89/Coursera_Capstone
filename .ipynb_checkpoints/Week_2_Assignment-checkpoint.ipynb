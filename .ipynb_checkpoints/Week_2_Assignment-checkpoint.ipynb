{
 "cells": [
  {
   "cell_type": "markdown",
   "metadata": {},
   "source": [
    "#### Business Understanding: \n",
    "The objective of this project is to be able to predict the severity of a road accidents under certain conditions like weather, road and visibility.\n",
    "It can be use for specific resources, like municipal police or emergency teams (fire fighters or hospitals), as a way to predict the flux of accidents that they can expect in a specific day. \n",
    "But it can be used by the public, since the common car drivers or a pedestrian.\n",
    "In the future it can be useful to predict the location of the most common places of an accident to eld place and help the government officials to improve roads or be more watchful to certain roads.\n",
    "\n"
   ]
  },
  {
   "cell_type": "code",
   "execution_count": null,
   "metadata": {},
   "outputs": [],
   "source": []
  }
 ],
 "metadata": {
  "kernelspec": {
   "display_name": "Python 3",
   "language": "python",
   "name": "python3"
  },
  "language_info": {
   "codemirror_mode": {
    "name": "ipython",
    "version": 3
   },
   "file_extension": ".py",
   "mimetype": "text/x-python",
   "name": "python",
   "nbconvert_exporter": "python",
   "pygments_lexer": "ipython3",
   "version": "3.7.1"
  }
 },
 "nbformat": 4,
 "nbformat_minor": 2
}
